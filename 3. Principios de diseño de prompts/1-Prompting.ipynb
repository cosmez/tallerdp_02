{
 "cells": [
  {
   "cell_type": "markdown",
   "id": "720aefca",
   "metadata": {
    "id": "720aefca"
   },
   "source": [
    "# **Principios de diseño de prompts**"
   ]
  },
  {
   "cell_type": "markdown",
   "id": "7454a6fe",
   "metadata": {
    "id": "7454a6fe"
   },
   "source": [
    "Ejercicios"
   ]
  },
  {
   "cell_type": "code",
   "execution_count": 2,
   "id": "c3fe3178",
   "metadata": {
    "executionInfo": {
     "elapsed": 6208,
     "status": "ok",
     "timestamp": 1748285921621,
     "user": {
      "displayName": "Cosme Zamudio",
      "userId": "05504398040823460957"
     },
     "user_tz": 420
    },
    "id": "c3fe3178"
   },
   "outputs": [],
   "source": [
    "import google.generativeai as genai\n",
    "import os\n",
    "from google.colab import userdata\n",
    "import pandas as pd"
   ]
  },
  {
   "cell_type": "code",
   "execution_count": null,
   "id": "e0a06fef",
   "metadata": {
    "colab": {
     "base_uri": "https://localhost:8080/",
     "height": 989
    },
    "executionInfo": {
     "elapsed": 1903,
     "status": "ok",
     "timestamp": 1748285925962,
     "user": {
      "displayName": "Cosme Zamudio",
      "userId": "05504398040823460957"
     },
     "user_tz": 420
    },
    "id": "e0a06fef",
    "outputId": "936b195d-f6ba-4713-e3ae-601ee13241cb"
   },
   "outputs": [],
   "source": [
    "genai.configure(api_key=userdata.get('GOOGLE_API_KEY'))\n",
    "\n",
    "#Revisamos los modelos existentes\n",
    "for model in genai.list_models():\n",
    "    print(model.name)\n",
    "\n",
    "model = genai.GenerativeModel(\"models/gemini-1.5-flash\")\n",
    "\n",
    "df = pd.read_csv(\"https://storage.googleapis.com/tallerdp_publico/taller02/products.csv\")"
   ]
  },
  {
   "cell_type": "markdown",
   "id": "1a34b1cc",
   "metadata": {
    "id": "1a34b1cc"
   },
   "source": [
    "<h3>PROMPT 1: Etiqueta de marketing breve</h3>"
   ]
  },
  {
   "cell_type": "code",
   "execution_count": null,
   "id": "14a16171",
   "metadata": {
    "colab": {
     "base_uri": "https://localhost:8080/",
     "height": 86
    },
    "executionInfo": {
     "elapsed": 754,
     "status": "ok",
     "timestamp": 1748285928712,
     "user": {
      "displayName": "Cosme Zamudio",
      "userId": "05504398040823460957"
     },
     "user_tz": 420
    },
    "id": "14a16171",
    "outputId": "084783c0-ce83-46dc-ba97-775d5b38a7e1"
   },
   "outputs": [],
   "source": [
    "row = df.loc[3]\n",
    "prompt1 = f\"\"\"\n",
    "Actúas como experto en branding de productos.\n",
    "\n",
    "Tu tarea es crear una etiqueta de marketing breve (menos de 15 palabras) que transmita estilo y temporada para este producto.\n",
    "\n",
    "Formato: texto en una sola línea.\n",
    "\n",
    "Producto:\n",
    "Nombre: {row['product_name']}\n",
    "Marca: {row['manufacturer']}\n",
    "Precio: {row['first_price_value']} {row['first_price_currency']}\n",
    "Keywords: {row['keywords']}\n",
    "\"\"\"\n",
    "response1 = model.generate_content(prompt1)\n",
    "print(\"\\nPROMPT 1 - Etiqueta de marketing breve:\\n\", response1.text)"
   ]
  },
  {
   "cell_type": "markdown",
   "id": "76030eab",
   "metadata": {
    "id": "76030eab"
   },
   "source": [
    "<h3>PROMPT 2: Generación de SQL</h3>"
   ]
  },
  {
   "cell_type": "code",
   "execution_count": null,
   "id": "5d23613e",
   "metadata": {
    "colab": {
     "base_uri": "https://localhost:8080/",
     "height": 156
    },
    "executionInfo": {
     "elapsed": 588,
     "status": "ok",
     "timestamp": 1748285931312,
     "user": {
      "displayName": "Cosme Zamudio",
      "userId": "05504398040823460957"
     },
     "user_tz": 420
    },
    "id": "5d23613e",
    "outputId": "660dbb1c-d92c-48ed-b793-7c25bc42d8fe"
   },
   "outputs": [],
   "source": [
    "row = df.loc[2]\n",
    "prompt2 = f\"\"\"\n",
    "Eres un analista de datos de ecommerce.\n",
    "\n",
    "Tu tarea es generar una consulta SQL que recupere los nombres y precios de productos cuyo precio sea mayor a 2000 MXN.\n",
    "\n",
    "Formato de salida: consulta SQL.\n",
    "\n",
    "Ejemplo de tabla: productos(nombre, precio)\n",
    "\n",
    "Producto de ejemplo:\n",
    "Nombre: {row['product_name']}, Precio: {row['first_price_value']}\n",
    "\"\"\"\n",
    "response2 = model.generate_content(prompt2)\n",
    "print(\"\\nPROMPT 2 - Generación de SQL:\\n\", response2.text)"
   ]
  },
  {
   "cell_type": "markdown",
   "id": "848e6b4f",
   "metadata": {
    "id": "848e6b4f"
   },
   "source": [
    "<h3>PROMPT 3: Análisis de inconsistencias</h3>"
   ]
  },
  {
   "cell_type": "code",
   "execution_count": null,
   "id": "98ddc25f",
   "metadata": {
    "colab": {
     "base_uri": "https://localhost:8080/",
     "height": 263
    },
    "executionInfo": {
     "elapsed": 1628,
     "status": "ok",
     "timestamp": 1748285934623,
     "user": {
      "displayName": "Cosme Zamudio",
      "userId": "05504398040823460957"
     },
     "user_tz": 420
    },
    "id": "98ddc25f",
    "outputId": "2533e735-92f0-4f91-fc16-d50cd8bfc664"
   },
   "outputs": [],
   "source": [
    "row = df.loc[0]\n",
    "prompt3 = f\"\"\"\n",
    "Eres un auditor de catálogo de productos.\n",
    "\n",
    "Tu tarea es revisar el nombre y keywords del producto para detectar posibles inconsistencias (por ejemplo, si es un producto para mujer pero hay términos masculinos).\n",
    "\n",
    "Devuelve un reporte corto con la observación, si la hay.\n",
    "\n",
    "Producto:\n",
    "Nombre: {row['product_name']}\n",
    "Keywords: {row['keywords']}\n",
    "\"\"\"\n",
    "response3 = model.generate_content(prompt3)\n",
    "print(\"\\nPROMPT 3 - Análisis de inconsistencias:\\n\", response3.text)"
   ]
  },
  {
   "cell_type": "markdown",
   "id": "39c05031",
   "metadata": {
    "id": "39c05031"
   },
   "source": [
    "<h3>PROMPT 4: Descripción informal para ecommerce</h3>"
   ]
  },
  {
   "cell_type": "code",
   "execution_count": null,
   "id": "12ed7f8e",
   "metadata": {
    "colab": {
     "base_uri": "https://localhost:8080/",
     "height": 176
    },
    "executionInfo": {
     "elapsed": 2297,
     "status": "ok",
     "timestamp": 1748285939806,
     "user": {
      "displayName": "Cosme Zamudio",
      "userId": "05504398040823460957"
     },
     "user_tz": 420
    },
    "id": "12ed7f8e",
    "outputId": "7b5baf2a-2a2d-4ce8-981e-996b0ff33b4e"
   },
   "outputs": [],
   "source": [
    "row = df.loc[4]\n",
    "prompt4 = f\"\"\"\n",
    "Actúas como redactor publicitario para una tienda en línea de moda.\n",
    "\n",
    "Tu tarea es crear una descripción atractiva e informal del siguiente producto. Destaca comodidad, estilo y a quién podría gustarle.\n",
    "\n",
    "Formato: texto informal de entre 2 y 3 párrafos.\n",
    "\n",
    "Producto:\n",
    "{row['product_name']}\n",
    "\"\"\"\n",
    "response4 = model.generate_content(prompt4)\n",
    "print(\"\\nPROMPT 4 - Descripción informal para ecommerce:\\n\", response4.text)\n"
   ]
  },
  {
   "cell_type": "markdown",
   "id": "3e666d45",
   "metadata": {
    "id": "3e666d45"
   },
   "source": [
    "<h3>PROMPT 5: Clasificación de cliente y temporada</h3>"
   ]
  },
  {
   "cell_type": "code",
   "execution_count": null,
   "id": "defa9d2b",
   "metadata": {
    "colab": {
     "base_uri": "https://localhost:8080/",
     "height": 173
    },
    "executionInfo": {
     "elapsed": 668,
     "status": "ok",
     "timestamp": 1748285942989,
     "user": {
      "displayName": "Cosme Zamudio",
      "userId": "05504398040823460957"
     },
     "user_tz": 420
    },
    "id": "defa9d2b",
    "outputId": "c6088dfd-88e2-48b7-c11c-04235f80b3a9"
   },
   "outputs": [],
   "source": [
    "row = df.loc[1]\n",
    "prompt5 = f\"\"\"\n",
    "Eres un especialista en moda de retail.\n",
    "\n",
    "Tu tarea es clasificar el siguiente producto en dos dimensiones: tipo de cliente (mujer, hombre, joven, niño) y temporada (verano, invierno, todo el año).\n",
    "\n",
    "Entrega la respuesta en formato JSON.\n",
    "\n",
    "Producto:\n",
    "{row['product_name']}\n",
    "\"\"\"\n",
    "response5 = model.generate_content(prompt5)\n",
    "print(\"\\nPROMPT 5 - Clasificación de cliente y temporada:\\n\", response5.text)"
   ]
  },
  {
   "cell_type": "markdown",
   "id": "r7MyJS9DFpDC",
   "metadata": {
    "id": "r7MyJS9DFpDC"
   },
   "source": [
    "## Principios de Diseño de Prompts\n",
    "Aquí se resumen los principios fundamentales para construir buenos prompts, basados en las imágenes de referencia:\n",
    "\n",
    "| Principio                     | Descripción                                                                 | Ejemplo                                                                 |\n",
    "|------------------------------|------------------------------------------------------------------------------|-------------------------------------------------------------------------|\n",
    "| **Delimitadores**            | Separar claramente instrucciones del contenido usando comillas              | \"Describe este producto: 'Zapatos X'\"                                   |\n",
    "| **Instrucciones detalladas** | Especificar el tipo de respuesta esperada (tono, longitud, etc.)            | \"Genera una descripción juvenil de 100 palabras\"                        |\n",
    "| **Estructura RTF**           | Asignar un rol, una tarea y un formato de salida                            | \"Eres un experto en marketing... Devuelve el resultado en JSON\"        |\n",
    "| **Pasos secuenciales**       | Indicar pasos específicos para ejecutar la tarea                            | Paso 1: Lee. Paso 2: Clasifica. Paso 3: Responde.                        |\n",
    "| **Tiempo para pensar**       | Frases como 'piénsalo paso a paso' para inducir razonamiento explícito      | \"¿Qué temporada es adecuada para...? Piensa paso a paso.\"              |\n",
    "| **Evitar vaguedad**          | Evitar palabras como 'claro', 'breve'; usar criterios medibles              | ❌ 'Haz una descripción clara' ✅ 'Haz una descripción de 100 palabras'  |\n",
    "| **Lenguaje positivo**        | No usar negaciones, decir lo que sí debe hacerse                            | ❌ 'No menciones marcas' ✅ 'Describe sin mencionar marcas específicas'  |\n",
    "| **Pistas de formato**        | Usar claves como JSON, SELECT, etc., para guiar el tipo de salida esperada  | \"Incluye 'import' para indicar Python\"                                 |"
   ]
  },
  {
   "cell_type": "markdown",
   "id": "pPefTMopFr_B",
   "metadata": {
    "id": "pPefTMopFr_B"
   },
   "source": []
  },
  {
   "cell_type": "markdown",
   "id": "dkiu7eemFymy",
   "metadata": {
    "id": "dkiu7eemFymy"
   },
   "source": [
    "## Ejercicio 1: Reescribir el Prompt\n",
    "**Instrucciones:** Corrige el siguiente prompt para que cumpla con al menos 3 principios de diseño:\n",
    "\n",
    "> \"Haz una descripción breve de este producto Sandalias Skechers Uno Summer Stand2 Mujer\""
   ]
  },
  {
   "cell_type": "markdown",
   "id": "3sNRbE9oGKtK",
   "metadata": {
    "id": "3sNRbE9oGKtK"
   },
   "source": [
    "PROMPT:"
   ]
  },
  {
   "cell_type": "markdown",
   "id": "nFN_bLV3GCmm",
   "metadata": {
    "id": "nFN_bLV3GCmm"
   },
   "source": [
    "## Ejercicio 2: Crear un Prompt en Formato RTF\n",
    "**Instrucciones:** Crea un prompt usando la estructura RTF (Rol, Tarea, Formato de salida) para hacer una descripcion breve del producto : Sandalias Skechers Uno Summer Stand2 Mujer\n",
    "\n",
    "**Rol:** ¿Quién es el modelo? (e.g. experto en moda, bot de inventario...)  \n",
    "**Tarea:** ¿Qué debe hacer?  \n",
    "**Formato:** ¿Cómo debe entregar la respuesta?  \n"
   ]
  },
  {
   "cell_type": "markdown",
   "id": "n3sqrkviGMsb",
   "metadata": {
    "id": "n3sqrkviGMsb"
   },
   "source": [
    "PROMPT:"
   ]
  }
 ],
 "metadata": {
  "colab": {
   "provenance": []
  },
  "kernelspec": {
   "display_name": "RecSys",
   "language": "python",
   "name": "python3"
  },
  "language_info": {
   "codemirror_mode": {
    "name": "ipython",
    "version": 3
   },
   "file_extension": ".py",
   "mimetype": "text/x-python",
   "name": "python",
   "nbconvert_exporter": "python",
   "pygments_lexer": "ipython3",
   "version": "3.12.9"
  }
 },
 "nbformat": 4,
 "nbformat_minor": 5
}
